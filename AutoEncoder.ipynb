{
  "nbformat": 4,
  "nbformat_minor": 0,
  "metadata": {
    "colab": {
      "name": "AutoEncoder.ipynb",
      "provenance": [],
      "collapsed_sections": []
    },
    "kernelspec": {
      "name": "python3",
      "display_name": "Python 3"
    },
    "accelerator": "GPU"
  },
  "cells": [
    {
      "cell_type": "code",
      "metadata": {
        "id": "DTx2WHBdDuC1"
      },
      "source": [
        "\n",
        "from tensorflow.keras.datasets import mnist\n",
        "from tensorflow.keras.layers import Dense, Input, Flatten,\\\n",
        "                                    Reshape, LeakyReLU as LR,\\\n",
        "                                    Activation, Dropout\n",
        "from tensorflow.keras.models import Model, Sequential\n",
        "from tensorflow.keras import optimizers\n",
        "from matplotlib import pyplot as plt\n",
        "from tensorflow.keras.utils import to_categorical\n",
        "from IPython import display # If using IPython, Colab or Jupyter\n",
        "import numpy as np"
      ],
      "execution_count": null,
      "outputs": []
    },
    {
      "cell_type": "markdown",
      "source": [
        "Loading and visulaizing the MNIST Dataset"
      ],
      "metadata": {
        "id": "pwoAWlgZKPg7"
      }
    },
    {
      "cell_type": "code",
      "metadata": {
        "id": "L0XybKJyEJIR",
        "outputId": "6d74d7ca-17d5-42fc-d526-13d0d1b046d4",
        "colab": {
          "base_uri": "https://localhost:8080/",
          "height": 319
        }
      },
      "source": [
        "(x_train, y_train), (x_test, y_test) = mnist.load_data()\n",
        "x_train = x_train/255.0\n",
        "x_test = x_test/255.0\n",
        "# Plot image data from x_train\n",
        "plt.imshow(x_train[0], cmap = \"gray\")\n",
        "plt.show()"
      ],
      "execution_count": null,
      "outputs": [
        {
          "output_type": "stream",
          "name": "stdout",
          "text": [
            "Downloading data from https://storage.googleapis.com/tensorflow/tf-keras-datasets/mnist.npz\n",
            "11493376/11490434 [==============================] - 0s 0us/step\n",
            "11501568/11490434 [==============================] - 0s 0us/step\n"
          ]
        },
        {
          "output_type": "display_data",
          "data": {
            "text/plain": [
              "<Figure size 432x288 with 1 Axes>"
            ],
            "image/png": "[encoded data removed]"
          },
          "metadata": {
            "needs_background": "light"
          }
        }
      ]
    },
    {
      "cell_type": "markdown",
      "source": [
        "Defining the network architechure for Encoder"
      ],
      "metadata": {
        "id": "2nqU6LUEKXbv"
      }
    },
    {
      "cell_type": "code",
      "metadata": {
        "id": "-tm9gLzMDw6S"
      },
      "source": [
        "LATENT_SIZE = 64\n",
        "encoder = Sequential([\n",
        "    Flatten(input_shape = (28, 28)),\n",
        "    Dense(512),\n",
        "    Activation(\"relu\"),\n",
        "    Dropout(0.5),\n",
        "    Dense(128),\n",
        "    Activation(\"relu\"),\n",
        "    Dropout(0.5),\n",
        "    Dense(LATENT_SIZE, activation=\"relu\"),\n",
        "])"
      ],
      "execution_count": null,
      "outputs": []
    },
    {
      "cell_type": "markdown",
      "source": [
        "Defining the network architechure for Decoder"
      ],
      "metadata": {
        "id": "UFrLod8nKc4u"
      }
    },
    {
      "cell_type": "code",
      "metadata": {
        "id": "x8EF9fQXDzSW"
      },
      "source": [
        "decoder = Sequential([\n",
        "    Dense(128, input_shape = (LATENT_SIZE,)),\n",
        "    Activation(\"relu\"),\n",
        "    Dropout(0.5),\n",
        "    Dense(512),\n",
        "    Activation(\"relu\"),\n",
        "    Dropout(0.5),\n",
        "    Dense(784),\n",
        "    Activation(\"relu\"),\n",
        "    Reshape((28, 28))\n",
        "])"
      ],
      "execution_count": null,
      "outputs": []
    },
    {
      "cell_type": "code",
      "metadata": {
        "id": "GOil9ltcD0si"
      },
      "source": [
        "img = Input(shape = (28, 28))\n",
        "latent_vector = encoder(img)\n",
        "output = decoder(latent_vector)\n",
        "model = Model(inputs = img, outputs = output)\n",
        "adam = optimizers.Adam(learning_rate=0.001, beta_1=0.9, beta_2=0.999, epsilon=1e-8)\n",
        "model.compile(adam, loss = \"mse\",metrics=['accuracy'])"
      ],
      "execution_count": null,
      "outputs": []
    },
    {
      "cell_type": "markdown",
      "source": [
        "Training the Model"
      ],
      "metadata": {
        "id": "Yrip8i77KgVY"
      }
    },
    {
      "cell_type": "code",
      "source": [
        "# mc2 = ModelCheckpoint('best_model2.h5', monitor='val_accuracy', mode='max', \n",
        "#                      verbose=1, save_best_only=True)\n",
        "\n",
        "# Train the model.\n",
        "history=model.fit(\n",
        "  x_train, \n",
        "  x_train, \n",
        "  batch_size = 64,\n",
        "  epochs=30, \n",
        "  validation_split=0.10\n",
        "  # callbacks=[mc2]\n",
        ")"
      ],
      "metadata": {
        "id": "7veYFcESU_6v",
        "outputId": "62bf3fda-232b-43fd-b3b4-f2ede176a583",
        "colab": {
          "base_uri": "https://localhost:8080/"
        }
      },
      "execution_count": null,
      "outputs": [
        {
          "output_type": "stream",
          "name": "stdout",
          "text": [
            "Epoch 1/30\n",
            "844/844 [==============================] - 7s 4ms/step - loss: 0.0536 - accuracy: 0.3212 - val_loss: 0.0399 - val_accuracy: 0.4114\n",
            "Epoch 2/30\n",
            "844/844 [==============================] - 3s 4ms/step - loss: 0.0430 - accuracy: 0.3816 - val_loss: 0.0356 - val_accuracy: 0.4357\n",
            "Epoch 3/30\n",
            "844/844 [==============================] - 3s 4ms/step - loss: 0.0407 - accuracy: 0.3960 - val_loss: 0.0339 - val_accuracy: 0.4437\n",
            "Epoch 4/30\n",
            "844/844 [==============================] - 3s 4ms/step - loss: 0.0395 - accuracy: 0.4025 - val_loss: 0.0327 - val_accuracy: 0.4487\n",
            "Epoch 5/30\n",
            "844/844 [==============================] - 3s 4ms/step - loss: 0.0388 - accuracy: 0.4074 - val_loss: 0.0320 - val_accuracy: 0.4546\n",
            "Epoch 6/30\n",
            "844/844 [==============================] - 4s 4ms/step - loss: 0.0383 - accuracy: 0.4111 - val_loss: 0.0311 - val_accuracy: 0.4576\n",
            "Epoch 7/30\n",
            "844/844 [==============================] - 3s 4ms/step - loss: 0.0378 - accuracy: 0.4139 - val_loss: 0.0310 - val_accuracy: 0.4570\n",
            "Epoch 8/30\n",
            "844/844 [==============================] - 3s 4ms/step - loss: 0.0375 - accuracy: 0.4160 - val_loss: 0.0303 - val_accuracy: 0.4634\n",
            "Epoch 9/30\n",
            "844/844 [==============================] - 3s 4ms/step - loss: 0.0372 - accuracy: 0.4182 - val_loss: 0.0302 - val_accuracy: 0.4644\n",
            "Epoch 10/30\n",
            "844/844 [==============================] - 3s 4ms/step - loss: 0.0369 - accuracy: 0.4202 - val_loss: 0.0298 - val_accuracy: 0.4648\n",
            "Epoch 11/30\n",
            "844/844 [==============================] - 4s 4ms/step - loss: 0.0367 - accuracy: 0.4210 - val_loss: 0.0293 - val_accuracy: 0.4689\n",
            "Epoch 12/30\n",
            "844/844 [==============================] - 3s 4ms/step - loss: 0.0365 - accuracy: 0.4225 - val_loss: 0.0294 - val_accuracy: 0.4684\n",
            "Epoch 13/30\n",
            "844/844 [==============================] - 3s 4ms/step - loss: 0.0364 - accuracy: 0.4238 - val_loss: 0.0295 - val_accuracy: 0.4664\n",
            "Epoch 14/30\n",
            "844/844 [==============================] - 3s 4ms/step - loss: 0.0363 - accuracy: 0.4251 - val_loss: 0.0294 - val_accuracy: 0.4667\n",
            "Epoch 15/30\n",
            "844/844 [==============================] - 3s 4ms/step - loss: 0.0361 - accuracy: 0.4254 - val_loss: 0.0288 - val_accuracy: 0.4705\n",
            "Epoch 16/30\n",
            "844/844 [==============================] - 3s 4ms/step - loss: 0.0361 - accuracy: 0.4262 - val_loss: 0.0290 - val_accuracy: 0.4708\n",
            "Epoch 17/30\n",
            "844/844 [==============================] - 3s 4ms/step - loss: 0.0359 - accuracy: 0.4271 - val_loss: 0.0286 - val_accuracy: 0.4692\n",
            "Epoch 18/30\n",
            "844/844 [==============================] - 3s 4ms/step - loss: 0.0358 - accuracy: 0.4277 - val_loss: 0.0286 - val_accuracy: 0.4701\n",
            "Epoch 19/30\n",
            "844/844 [==============================] - 3s 4ms/step - loss: 0.0358 - accuracy: 0.4280 - val_loss: 0.0283 - val_accuracy: 0.4771\n",
            "Epoch 20/30\n",
            "844/844 [==============================] - 3s 4ms/step - loss: 0.0357 - accuracy: 0.4285 - val_loss: 0.0284 - val_accuracy: 0.4759\n",
            "Epoch 21/30\n",
            "844/844 [==============================] - 3s 4ms/step - loss: 0.0356 - accuracy: 0.4294 - val_loss: 0.0284 - val_accuracy: 0.4730\n",
            "Epoch 22/30\n",
            "844/844 [==============================] - 3s 4ms/step - loss: 0.0356 - accuracy: 0.4299 - val_loss: 0.0281 - val_accuracy: 0.4748\n",
            "Epoch 23/30\n",
            "844/844 [==============================] - 3s 4ms/step - loss: 0.0356 - accuracy: 0.4301 - val_loss: 0.0282 - val_accuracy: 0.4726\n",
            "Epoch 24/30\n",
            "844/844 [==============================] - 3s 4ms/step - loss: 0.0355 - accuracy: 0.4303 - val_loss: 0.0281 - val_accuracy: 0.4745\n",
            "Epoch 25/30\n",
            "844/844 [==============================] - 3s 4ms/step - loss: 0.0355 - accuracy: 0.4312 - val_loss: 0.0281 - val_accuracy: 0.4765\n",
            "Epoch 26/30\n",
            "844/844 [==============================] - 3s 4ms/step - loss: 0.0354 - accuracy: 0.4311 - val_loss: 0.0281 - val_accuracy: 0.4724\n",
            "Epoch 27/30\n",
            "844/844 [==============================] - 3s 4ms/step - loss: 0.0353 - accuracy: 0.4313 - val_loss: 0.0278 - val_accuracy: 0.4790\n",
            "Epoch 28/30\n",
            "844/844 [==============================] - 3s 4ms/step - loss: 0.0353 - accuracy: 0.4311 - val_loss: 0.0280 - val_accuracy: 0.4763\n",
            "Epoch 29/30\n",
            "844/844 [==============================] - 3s 4ms/step - loss: 0.0353 - accuracy: 0.4317 - val_loss: 0.0279 - val_accuracy: 0.4796\n",
            "Epoch 30/30\n",
            "844/844 [==============================] - 3s 4ms/step - loss: 0.0352 - accuracy: 0.4319 - val_loss: 0.0278 - val_accuracy: 0.4764\n"
          ]
        }
      ]
    },
    {
      "cell_type": "markdown",
      "source": [
        "Plotting epoch-wise Training and Validation Loss"
      ],
      "metadata": {
        "id": "iPht7dJfKjaI"
      }
    },
    {
      "cell_type": "code",
      "source": [
        "loss_train = history.history[\"loss\"]\n",
        "loss_val = history.history['val_loss']\n",
        "epochs = range(1,31)\n",
        "plt.plot(epochs, loss_train, 'g', label='Training loss')\n",
        "plt.plot(epochs, loss_val, 'b', label='validation loss')\n",
        "plt.title('Training and Validation loss')\n",
        "plt.xlabel('Epochs')\n",
        "plt.ylabel('Loss')\n",
        "plt.legend()\n",
        "plt.show()"
      ],
      "metadata": {
        "colab": {
          "base_uri": "https://localhost:8080/",
          "height": 295
        },
        "id": "uvjImQyJL2zF",
        "outputId": "c84bca0c-a116-4028-bbc2-e780cff0f4df"
      },
      "execution_count": null,
      "outputs": [
        {
          "output_type": "display_data",
          "data": {
            "text/plain": [
              "<Figure size 432x288 with 1 Axes>"
            ],
            "image/png": "[encoded data removed]"
          },
          "metadata": {
            "needs_background": "light"
          }
        }
      ]
    },
    {
      "cell_type": "code",
      "source": [
        "model.evaluate(x_test,x_test)"
      ],
      "metadata": {
        "id": "7e0FhiTyVan-",
        "outputId": "74123deb-4387-4801-c338-50f14fac95f3",
        "colab": {
          "base_uri": "https://localhost:8080/"
        }
      },
      "execution_count": null,
      "outputs": [
        {
          "output_type": "stream",
          "name": "stdout",
          "text": [
            "313/313 [==============================] - 1s 2ms/step - loss: 0.0280 - accuracy: 0.4672\n"
          ]
        },
        {
          "output_type": "execute_result",
          "data": {
            "text/plain": [
              "[0.028027761727571487, 0.46721428632736206]"
            ]
          },
          "metadata": {},
          "execution_count": 7
        }
      ]
    },
    {
      "cell_type": "code",
      "metadata": {
        "id": "ewXzkdbPD3HL"
      },
      "source": [
        "# EPOCHS = 1000\n",
        "# #Only do plotting if you have IPython, Jupyter, or using Colab\n",
        "# for epoch in range(EPOCHS):\n",
        "#     fig, axs = plt.subplots(4, 4, figsize=(4,4))\n",
        "#     rand = x_test[np.random.randint(0, 10000, 16)].reshape((4, 4, 1, 28, 28))\n",
        "    \n",
        "#     display.clear_output() # If you imported display from IPython\n",
        "    \n",
        "#     for i in range(4):\n",
        "#         for j in range(4):\n",
        "#             axs[i, j].imshow(model.predict(rand[i, j])[0], cmap = \"gray\")\n",
        "#             axs[i, j].axis(\"off\")\n",
        "    \n",
        "#     plt.subplots_adjust(wspace = 0, hspace = 0)\n",
        "#     plt.show()\n",
        "#     print(\"-----------\", \"EPOCH\", epoch, \"-----------\")\n",
        "#     model.fit(x_train, x_train, batch_size = 64)"
      ],
      "execution_count": null,
      "outputs": []
    },
    {
      "cell_type": "code",
      "source": [
        "augmented = Sequential([\n",
        "    Dense(32, input_shape = (64,)),\n",
        "    Activation(\"relu\"),\n",
        "    Dropout(0.5),\n",
        "    Dense(10),\n",
        "    Activation(\"softmax\")\n",
        "])"
      ],
      "metadata": {
        "id": "szCh8lFxg_hW"
      },
      "execution_count": null,
      "outputs": []
    },
    {
      "cell_type": "code",
      "source": [
        "output = augmented(latent_vector)\n",
        "model = Model(inputs = img, outputs = output)\n",
        "adam = optimizers.Adam(learning_rate=0.001, beta_1=0.9, beta_2=0.999, epsilon=1e-8)\n",
        "model.compile(adam, loss = \"categorical_crossentropy\",metrics=['accuracy'])"
      ],
      "metadata": {
        "id": "KVTD1188gYkf"
      },
      "execution_count": null,
      "outputs": []
    },
    {
      "cell_type": "code",
      "source": [
        "# x_train = x_train.reshape((-1, 784))\n",
        "# x_test = x_test.reshape((-1, 784))"
      ],
      "metadata": {
        "id": "A0ABkw-Hkdwf"
      },
      "execution_count": null,
      "outputs": []
    },
    {
      "cell_type": "code",
      "source": [
        "history=model.fit(\n",
        "  x_train,\n",
        "  to_categorical(y_train), \n",
        "  batch_size = 64,\n",
        "  epochs=30, \n",
        "  validation_split=0.10\n",
        "  # callbacks=[mc2]\n",
        ")"
      ],
      "metadata": {
        "id": "HO6dKDROi4Pm",
        "outputId": "738ece69-7112-428c-d972-e11ca7c4bd77",
        "colab": {
          "base_uri": "https://localhost:8080/"
        }
      },
      "execution_count": null,
      "outputs": [
        {
          "output_type": "stream",
          "name": "stdout",
          "text": [
            "Epoch 1/30\n",
            "844/844 [==============================] - 4s 4ms/step - loss: 0.6276 - accuracy: 0.8227 - val_loss: 0.1477 - val_accuracy: 0.9592\n",
            "Epoch 2/30\n",
            "844/844 [==============================] - 5s 5ms/step - loss: 0.3826 - accuracy: 0.9029 - val_loss: 0.1171 - val_accuracy: 0.9658\n",
            "Epoch 3/30\n",
            "844/844 [==============================] - 3s 4ms/step - loss: 0.3189 - accuracy: 0.9207 - val_loss: 0.1024 - val_accuracy: 0.9703\n",
            "Epoch 4/30\n",
            "844/844 [==============================] - 3s 3ms/step - loss: 0.2799 - accuracy: 0.9304 - val_loss: 0.0875 - val_accuracy: 0.9733\n",
            "Epoch 5/30\n",
            "844/844 [==============================] - 3s 3ms/step - loss: 0.2557 - accuracy: 0.9371 - val_loss: 0.0889 - val_accuracy: 0.9752\n",
            "Epoch 6/30\n",
            "844/844 [==============================] - 3s 3ms/step - loss: 0.2382 - accuracy: 0.9401 - val_loss: 0.0879 - val_accuracy: 0.9743\n",
            "Epoch 7/30\n",
            "844/844 [==============================] - 3s 3ms/step - loss: 0.2227 - accuracy: 0.9443 - val_loss: 0.0850 - val_accuracy: 0.9752\n",
            "Epoch 8/30\n",
            "844/844 [==============================] - 3s 3ms/step - loss: 0.2123 - accuracy: 0.9470 - val_loss: 0.0783 - val_accuracy: 0.9765\n",
            "Epoch 9/30\n",
            "844/844 [==============================] - 3s 3ms/step - loss: 0.2031 - accuracy: 0.9480 - val_loss: 0.0774 - val_accuracy: 0.9780\n",
            "Epoch 10/30\n",
            "844/844 [==============================] - 3s 3ms/step - loss: 0.1935 - accuracy: 0.9499 - val_loss: 0.0772 - val_accuracy: 0.9778\n",
            "Epoch 11/30\n",
            "844/844 [==============================] - 3s 3ms/step - loss: 0.1833 - accuracy: 0.9529 - val_loss: 0.0698 - val_accuracy: 0.9802\n",
            "Epoch 12/30\n",
            "844/844 [==============================] - 3s 3ms/step - loss: 0.1723 - accuracy: 0.9545 - val_loss: 0.0750 - val_accuracy: 0.9782\n",
            "Epoch 13/30\n",
            "844/844 [==============================] - 3s 3ms/step - loss: 0.1754 - accuracy: 0.9543 - val_loss: 0.0714 - val_accuracy: 0.9785\n",
            "Epoch 14/30\n",
            "844/844 [==============================] - 3s 3ms/step - loss: 0.1658 - accuracy: 0.9575 - val_loss: 0.0738 - val_accuracy: 0.9785\n",
            "Epoch 15/30\n",
            "844/844 [==============================] - 3s 3ms/step - loss: 0.1615 - accuracy: 0.9573 - val_loss: 0.0747 - val_accuracy: 0.9797\n",
            "Epoch 16/30\n",
            "844/844 [==============================] - 3s 3ms/step - loss: 0.1588 - accuracy: 0.9590 - val_loss: 0.0701 - val_accuracy: 0.9798\n",
            "Epoch 17/30\n",
            "844/844 [==============================] - 3s 3ms/step - loss: 0.1554 - accuracy: 0.9605 - val_loss: 0.0737 - val_accuracy: 0.9797\n",
            "Epoch 18/30\n",
            "844/844 [==============================] - 3s 3ms/step - loss: 0.1477 - accuracy: 0.9611 - val_loss: 0.0741 - val_accuracy: 0.9818\n",
            "Epoch 19/30\n",
            "844/844 [==============================] - 3s 3ms/step - loss: 0.1471 - accuracy: 0.9619 - val_loss: 0.0735 - val_accuracy: 0.9798\n",
            "Epoch 20/30\n",
            "844/844 [==============================] - 3s 3ms/step - loss: 0.1451 - accuracy: 0.9632 - val_loss: 0.0740 - val_accuracy: 0.9805\n",
            "Epoch 21/30\n",
            "844/844 [==============================] - 3s 3ms/step - loss: 0.1398 - accuracy: 0.9634 - val_loss: 0.0700 - val_accuracy: 0.9805\n",
            "Epoch 22/30\n",
            "844/844 [==============================] - 3s 3ms/step - loss: 0.1388 - accuracy: 0.9652 - val_loss: 0.0727 - val_accuracy: 0.9800\n",
            "Epoch 23/30\n",
            "844/844 [==============================] - 3s 3ms/step - loss: 0.1360 - accuracy: 0.9652 - val_loss: 0.0638 - val_accuracy: 0.9815\n",
            "Epoch 24/30\n",
            "844/844 [==============================] - 3s 3ms/step - loss: 0.1341 - accuracy: 0.9656 - val_loss: 0.0739 - val_accuracy: 0.9810\n",
            "Epoch 25/30\n",
            "844/844 [==============================] - 3s 3ms/step - loss: 0.1301 - accuracy: 0.9664 - val_loss: 0.0667 - val_accuracy: 0.9810\n",
            "Epoch 26/30\n",
            "844/844 [==============================] - 3s 3ms/step - loss: 0.1243 - accuracy: 0.9670 - val_loss: 0.0727 - val_accuracy: 0.9817\n",
            "Epoch 27/30\n",
            "844/844 [==============================] - 3s 3ms/step - loss: 0.1271 - accuracy: 0.9667 - val_loss: 0.0718 - val_accuracy: 0.9823\n",
            "Epoch 28/30\n",
            "844/844 [==============================] - 3s 4ms/step - loss: 0.1224 - accuracy: 0.9685 - val_loss: 0.0671 - val_accuracy: 0.9828\n",
            "Epoch 29/30\n",
            "844/844 [==============================] - 3s 4ms/step - loss: 0.1243 - accuracy: 0.9682 - val_loss: 0.0659 - val_accuracy: 0.9823\n",
            "Epoch 30/30\n",
            "844/844 [==============================] - 3s 3ms/step - loss: 0.1150 - accuracy: 0.9692 - val_loss: 0.0665 - val_accuracy: 0.9832\n"
          ]
        }
      ]
    },
    {
      "cell_type": "code",
      "source": [
        "loss_train = history.history[\"loss\"]\n",
        "loss_val = history.history['val_loss']\n",
        "epochs = range(1,31)\n",
        "plt.plot(epochs, loss_train, 'g', label='Training loss')\n",
        "plt.plot(epochs, loss_val, 'b', label='validation loss')\n",
        "plt.title('Training and Validation loss')\n",
        "plt.xlabel('Epochs')\n",
        "plt.ylabel('Loss')\n",
        "plt.legend()\n",
        "plt.show()"
      ],
      "metadata": {
        "colab": {
          "base_uri": "https://localhost:8080/",
          "height": 295
        },
        "id": "b3ojApeCL_EO",
        "outputId": "31d39b98-bb49-4bcc-b39a-b828dd7a60ca"
      },
      "execution_count": null,
      "outputs": [
        {
          "output_type": "display_data",
          "data": {
            "text/plain": [
              "<Figure size 432x288 with 1 Axes>"
            ],
            "image/png": "[encoded data removed]"
          },
          "metadata": {
            "needs_background": "light"
          }
        }
      ]
    },
    {
      "cell_type": "code",
      "source": [
        "x_test.shape"
      ],
      "metadata": {
        "id": "yKRYccZYoD-U",
        "outputId": "683bb134-6cab-40e7-da60-1d4f5004e2ae",
        "colab": {
          "base_uri": "https://localhost:8080/"
        }
      },
      "execution_count": null,
      "outputs": [
        {
          "output_type": "execute_result",
          "data": {
            "text/plain": [
              "(10000, 28, 28)"
            ]
          },
          "metadata": {},
          "execution_count": 16
        }
      ]
    },
    {
      "cell_type": "code",
      "source": [
        "y_test.shape"
      ],
      "metadata": {
        "id": "dC8oGcNloPqF",
        "outputId": "c93dcbbc-5f46-4fd9-b297-2ba5bf42fa1d",
        "colab": {
          "base_uri": "https://localhost:8080/"
        }
      },
      "execution_count": null,
      "outputs": [
        {
          "output_type": "execute_result",
          "data": {
            "text/plain": [
              "(10000,)"
            ]
          },
          "metadata": {},
          "execution_count": 17
        }
      ]
    },
    {
      "cell_type": "code",
      "source": [
        "model.evaluate(x_test,to_categorical(y_test))"
      ],
      "metadata": {
        "id": "6YNcVjK7nqoy",
        "outputId": "9d0ed05a-9c47-457d-a157-c1d97383b7b2",
        "colab": {
          "base_uri": "https://localhost:8080/"
        }
      },
      "execution_count": null,
      "outputs": [
        {
          "output_type": "stream",
          "name": "stdout",
          "text": [
            "313/313 [==============================] - 1s 2ms/step - loss: 0.1063 - accuracy: 0.9795\n"
          ]
        },
        {
          "output_type": "execute_result",
          "data": {
            "text/plain": [
              "[0.1063440814614296, 0.9794999957084656]"
            ]
          },
          "metadata": {},
          "execution_count": 18
        }
      ]
    }
  ]
}